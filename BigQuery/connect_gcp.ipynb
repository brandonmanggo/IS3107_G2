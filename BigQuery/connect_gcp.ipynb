{
 "cells": [
  {
   "cell_type": "code",
   "execution_count": 3,
   "metadata": {},
   "outputs": [],
   "source": [
    "# install package \n",
    "# pip install google-cloud-bigquery"
   ]
  },
  {
   "cell_type": "code",
   "execution_count": 1,
   "metadata": {},
   "outputs": [],
   "source": [
    "\n",
    "import os\n",
    "from google.cloud import bigquery\n",
    "\n",
    "# Set the path to your service account key file\n",
    "# Change the dir according to your file system\n",
    "os.environ['GOOGLE_APPLICATION_CREDENTIALS'] = '/Users/samsepiol/Desktop/BzA/IS3107/Project/is3107-g2-381308-164e51c4d00e.json'\n",
    "\n",
    "# Create a client object\n",
    "client = bigquery.Client()"
   ]
  },
  {
   "cell_type": "code",
   "execution_count": 11,
   "metadata": {},
   "outputs": [
    {
     "data": {
      "text/plain": [
       "LoadJob<project=is3107-g2-381308, location=asia-southeast1, id=1654c461-24e7-468c-9c92-94fb172e8cff>"
      ]
     },
     "execution_count": 11,
     "metadata": {},
     "output_type": "execute_result"
    }
   ],
   "source": [
    "import csv\n",
    "\n",
    "# Create the empty table first at GCP BigQuery\n",
    "# table id from Google Big Query (project.datasets.table)\n",
    "table_id = 'is3107-g2-381308.hotel_bookings.booking_city'\n",
    "\n",
    "# Define the new schema to add w API if you never define on GCP\n",
    "# (can defined on GCP also directly, ensure schema is defined before loading the data)\n",
    "# comment this out if your schema is defined\n",
    "updated_schema = [\n",
    "    #bigquery.SchemaField('is_canceled', 'STRING', mode='NULLABLE'),\n",
    "    #bigquery.SchemaField('lead_time', 'STRING', mode='NULLABLE'),\n",
    "    #bigquery.SchemaField('arrival_date_year', 'STRING', mode='NULLABLE')\n",
    "    bigquery.SchemaField('arrival_date_month', 'STRING', mode = 'NULLABLE'),\n",
    "    bigquery.SchemaField('arrival_date_week_number', 'INTEGER', mode = 'NULLABLE'),\n",
    "    bigquery.SchemaField('arrival_date_day_of_month', 'INTEGER', mode = 'NULLABLE'),\n",
    "    bigquery.SchemaField('stays_in_weekend_nights', 'INTEGER', mode = 'NULLABLE'),\n",
    "    bigquery.SchemaField('stays_in_week_nights', 'INTEGER', mode = 'NULLABLE'),\n",
    "    bigquery.SchemaField('adults', 'INTEGER', mode = 'NULLABLE'),\n",
    "    bigquery.SchemaField('children', 'INTEGER', mode = 'NULLABLE'),\n",
    "    bigquery.SchemaField('babies', 'INTEGER', mode = 'NULLABLE'),\n",
    "    bigquery.SchemaField('meal', 'STRING', mode = 'NULLABLE'),\n",
    "    bigquery.SchemaField('country', 'STRING', mode = 'NULLABLE'),\n",
    "    bigquery.SchemaField('is_repeated_guest', 'STRING', mode = 'NULLABLE'), #Categorical\n",
    "    bigquery.SchemaField('previous_cancellations', 'INTEGER', mode = 'NULLABLE'),\n",
    "    bigquery.SchemaField('previous_bookings_not_cancelled', 'INTEGER', mode = 'NULLABLE'),\n",
    "    bigquery.SchemaField('reserved_room_type', 'STRING', mode = 'NULLABLE'), #Categorical\n",
    "    bigquery.SchemaField('assigned_room_type', 'STRING', mode = 'NULLABLE'), #Categorical\n",
    "    bigquery.SchemaField('booking_changes', 'INTEGER', mode = 'NULLABLE'),\n",
    "    bigquery.SchemaField('deposit_type', 'STRING', mode = 'NULLABLE'), #Categorical\n",
    "    bigquery.SchemaField('days_in_waiting_list', 'INTEGER', mode = 'NULLABLE'),\n",
    "    bigquery.SchemaField('customer_type', 'STRING', mode = 'NULLABLE'),\n",
    "    bigquery.SchemaField('adr', 'FLOAT', mode = 'NULLABLE'),\n",
    "    bigquery.SchemaField('required_car_parking_spaces', 'INTEGER', mode = 'NULLABLE'),\n",
    "    bigquery.SchemaField('total_of_special_requests', 'INTEGER', mode = 'NULLABLE'),\n",
    "    bigquery.SchemaField('reservation_status', 'STRING', mode = 'NULLABLE'), #Categorical\n",
    "    bigquery.SchemaField('reservation_status_date', 'DATE', mode = 'NULLABLE')\n",
    "]\n",
    "\n",
    "# Get the table object\n",
    "table = client.get_table(table_id)\n",
    "\n",
    "# create schema for table (just run this once)\n",
    "# comment this out if your schema is defined\n",
    "original_schema = table.schema\n",
    "new_schema = original_schema[:] \n",
    "new_schema.extend(updated_schema)\n",
    "table.schema = new_schema\n",
    "table = client.update_table(table, ['schema'])\n",
    "\n",
    "# check if the table schema is updated\n",
    "print(table.schema)\n",
    "\n",
    "# Inserting the data into the table\n",
    "# skip leading rows: skip the csv header\n",
    "# Load CSV file to BigQuery\n",
    "job_config = bigquery.LoadJobConfig(\n",
    "    source_format=bigquery.SourceFormat.CSV, \n",
    "    skip_leading_rows=1, autodetect= True,\n",
    "     write_disposition=bigquery.WriteDisposition.WRITE_TRUNCATE\n",
    ")\n",
    "\n",
    "\n",
    "with open('city_bookings.csv', 'rb') as file:\n",
    "    job = client.load_table_from_file(file, table_id, job_config=job_config)\n",
    "\n",
    "job.result()"
   ]
  },
  {
   "cell_type": "code",
   "execution_count": null,
   "metadata": {},
   "outputs": [],
   "source": []
  }
 ],
 "metadata": {
  "kernelspec": {
   "display_name": "Python 3.9.6 64-bit",
   "language": "python",
   "name": "python3"
  },
  "language_info": {
   "codemirror_mode": {
    "name": "ipython",
    "version": 3
   },
   "file_extension": ".py",
   "mimetype": "text/x-python",
   "name": "python",
   "nbconvert_exporter": "python",
   "pygments_lexer": "ipython3",
   "version": "3.9.7"
  },
  "orig_nbformat": 4,
  "vscode": {
   "interpreter": {
    "hash": "31f2aee4e71d21fbe5cf8b01ff0e069b9275f58929596ceb00d14d90e3e16cd6"
   }
  }
 },
 "nbformat": 4,
 "nbformat_minor": 2
}
