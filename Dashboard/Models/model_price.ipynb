{
 "cells": [
  {
   "attachments": {},
   "cell_type": "markdown",
   "metadata": {},
   "source": [
    "# Machine Learning Modelling"
   ]
  },
  {
   "attachments": {},
   "cell_type": "markdown",
   "metadata": {},
   "source": [
    "## Hotel Booking - Price Prediction"
   ]
  },
  {
   "attachments": {},
   "cell_type": "markdown",
   "metadata": {},
   "source": [
    "### Import Libraries"
   ]
  },
  {
   "cell_type": "code",
   "execution_count": null,
   "metadata": {},
   "outputs": [],
   "source": [
    "# General\n",
    "import numpy as np\n",
    "import pandas as pd\n",
    "\n",
    "# EDA\n",
    "from scipy import stats\n",
    "import matplotlib.pyplot as plt\n",
    "import seaborn as sns\n",
    "sns.set_theme(style=\"whitegrid\")\n",
    "colour_palette = sns.color_palette(\"hls\", 8)\n",
    "\n",
    "# Regression \n",
    "import statsmodels.api as sm\n",
    "import statsmodels.formula.api as smf                 # for ols and logit\n",
    "# from statsmodels.multivariate.pca import PCA\n",
    "\n",
    "# Machine Learning\n",
    "from sklearn.pipeline import Pipeline\n",
    "from sklearn.preprocessing import StandardScaler      # Remove Mean and scale to Unit Variance\n",
    "from sklearn.preprocessing import PowerTransformer    # Log Transformation\n",
    "from sklearn.preprocessing import LabelEncoder\n",
    "from sklearn.preprocessing import OneHotEncoder\n",
    "from sklearn.decomposition import PCA\n",
    "from sklearn.neighbors import KNeighborsClassifier\n",
    "from sklearn.ensemble import RandomForestClassifier\n",
    "from sklearn.tree import DecisionTreeClassifier\n",
    "from sklearn.naive_bayes import GaussianNB\n",
    "from sklearn.model_selection import train_test_split\n",
    "from sklearn.model_selection import cross_val_score\n",
    "from sklearn.model_selection import cross_validate\n",
    "from sklearn.model_selection import KFold\n",
    "from sklearn.model_selection import GridSearchCV\n",
    "from sklearn.metrics import classification_report\n",
    "from sklearn.metrics import confusion_matrix\n",
    "from sklearn.metrics import accuracy_score"
   ]
  },
  {
   "attachments": {},
   "cell_type": "markdown",
   "metadata": {},
   "source": [
    "### Pre-Processing"
   ]
  },
  {
   "cell_type": "code",
   "execution_count": null,
   "metadata": {},
   "outputs": [],
   "source": [
    "## Importing Data\n",
    "data_hotel_bookings = pd.read_csv()\n",
    "\n",
    "## Understanding Data I\n",
    "data_hotel_bookings.describe()"
   ]
  },
  {
   "cell_type": "code",
   "execution_count": null,
   "metadata": {},
   "outputs": [],
   "source": [
    "## Understanding Data II\n",
    "print(data_hotel_bookings.dtypes)"
   ]
  },
  {
   "cell_type": "code",
   "execution_count": null,
   "metadata": {},
   "outputs": [],
   "source": [
    "## Check Missing Data\n",
    "data_hotel_bookings.isnull().sum()[data_hotel_bookings.isnull().sum() > 0]"
   ]
  },
  {
   "cell_type": "code",
   "execution_count": null,
   "metadata": {},
   "outputs": [],
   "source": [
    "## Fill Missing Data\n",
    "\n",
    "# For Children\n",
    "data_hotel_bookings.children.fillna(0, inplace = True)\n",
    "\n",
    "# For Country\n",
    "data_hotel_bookings.country.fillna(\"Unknown\", inplace = True)\n",
    "\n",
    "# For Agent\n",
    "data_hotel_bookings.loc[data_hotel_bookings.agent.isnull() == False, 'agent'] = 'Agent'\n",
    "data_hotel_bookings.agent.fillna(\"No Agent\", inplace = True)\n",
    "\n",
    "# For Company \n",
    "data_hotel_bookings.loc[data_hotel_bookings.company.isnull() == False, 'company'] = 'Corporate'\n",
    "data_hotel_bookings.company.fillna(\"No Company\", inplace = True)\n",
    "\n",
    "# Re-Confirm \n",
    "data_hotel_bookings.isnull().sum()[data_hotel_bookings.isnull().sum() > 0]"
   ]
  },
  {
   "cell_type": "code",
   "execution_count": null,
   "metadata": {},
   "outputs": [],
   "source": [
    "## Cleaning Data\n",
    "data_hotel_bookings_resort = data_hotel_bookings.loc[data_hotel_bookings[\"hotel\"] == \"Resort Hotel\"]\n",
    "data_hotel_bookings_city = data_hotel_bookings.loc[data_hotel_bookings[\"hotel\"] == \"City Hotel\"]"
   ]
  },
  {
   "attachments": {},
   "cell_type": "markdown",
   "metadata": {},
   "source": [
    "### Feature Engineering"
   ]
  },
  {
   "cell_type": "code",
   "execution_count": null,
   "metadata": {},
   "outputs": [],
   "source": [
    "## LabelEncoder / OneHotEncoder\n"
   ]
  },
  {
   "cell_type": "code",
   "execution_count": null,
   "metadata": {},
   "outputs": [],
   "source": [
    "## Principal Component Analysis (PCA)\n"
   ]
  },
  {
   "cell_type": "code",
   "execution_count": null,
   "metadata": {},
   "outputs": [],
   "source": [
    "## Correlation Matrix\n",
    "data_hotel_bookings.corr()"
   ]
  },
  {
   "cell_type": "code",
   "execution_count": null,
   "metadata": {},
   "outputs": [],
   "source": [
    "## Correlation Matrix Heatmap\n",
    "sns.heatmap(data_hotel_bookings.corr(), cmap='YlGnBu')\n",
    "plt.show()"
   ]
  },
  {
   "attachments": {},
   "cell_type": "markdown",
   "metadata": {},
   "source": [
    "Observations\n",
    "\n",
    "High Positive Correlation:\n",
    "- is_canceled & lead_time\n",
    "- stays_in_weekend_nights & stays_in_week_nights\n",
    "- is_repeated_guest & bookings_not_cancelled\n",
    "- agent & company\n",
    "\n",
    "Moderate Positive Correlation:\n",
    "- arrival_date_year & company\n",
    "- arrival_date_year & adr\n",
    "- adults & company\n",
    "- adults & adr\n",
    "- children & adr\n",
    "- total_of_special_requests & adr\n",
    "\n",
    "Moderate Negative Correlation:\n",
    "- is_cancelled & total_of_special_requests\n",
    "- is_cancelled & required_car_parking_spaces\n",
    "- is_repeated_guest & company\n",
    "- arrival_date_week_number & arrival_date_year\n",
    "- is_repeated_guest & adr"
   ]
  },
  {
   "cell_type": "code",
   "execution_count": null,
   "metadata": {},
   "outputs": [],
   "source": [
    "## Feature Importance\n",
    "corr_adr = data_hotel_bookings.corr()[\"adr\"]\n",
    "corr_adr.abs().sort_values(ascending = False)"
   ]
  },
  {
   "attachments": {},
   "cell_type": "markdown",
   "metadata": {},
   "source": [
    "Observations\n",
    "\n",
    "Top 5 Feature Selection By Importance\n",
    "1. children\n",
    "2. adults\n",
    "3. arrival_date_year\n",
    "4. total_of_special_requests\n",
    "5. is_repeated_guest"
   ]
  },
  {
   "cell_type": "code",
   "execution_count": null,
   "metadata": {},
   "outputs": [],
   "source": [
    "## Selecting Top 5 Features for Model Building\n",
    "data_hotel_bookings_feature = data_hotel_bookings[['adr', 'children', 'adults', 'arrival_date_year', 'total_of_special_requests', 'is_repeated_guest']]\n",
    "data_hotel_bookings_feature.drop(index = [row for row in data_hotel_bookings_feature.index if 0 >= data_hotel_bookings_feature.loc[row, 'adr']], inplace = True)\n",
    "data_hotel_bookings_feature.dropna()\n",
    "data_hotel_bookings_feature.head()"
   ]
  },
  {
   "attachments": {},
   "cell_type": "markdown",
   "metadata": {},
   "source": [
    "### Model Selection"
   ]
  },
  {
   "cell_type": "code",
   "execution_count": null,
   "metadata": {},
   "outputs": [],
   "source": [
    "## Evaluation Function (with different Metrics)\n",
    "def evaluation(y_test, y_pred):\n",
    "    print(\"Accuracy: \", accuracy_score(y_test, y_pred))         # Proportion of Correction Classification: (TP + TN) / (TP + TN + FP + FN)\n",
    "    # print(\"Specificity: \" (y_test, y_pred))                   # Proportion of Predicted No out of Actual No: (TN) / (FP + TN)\n",
    "    print(\"Precision: \", precision_score(y_test, y_pred))       # Proportion of Actual Yes out of Predicted Yes: (TP) / (TP + FP)\n",
    "    print(\"Sensitivity/Recall: \", recall_score(y_test, y_pred)) # Proportion of Predicted Yes out of Actual Yes: (TP) / (TP + FN)\n",
    "    print(\"F1 Score: \", f1_score(y_test, y_pred))               # Balanced Index Between Precision & Sensitivity: (2 * Precision * Sensitivity) / (Precision + Sensitivity)\n",
    "    print(\"Classification report: \\n\", classification_report(y_test, y_pred))\n",
    "    ConfusionMatrixDisplay(confusion_matrix(y_test, y_pred)).plot()\n",
    "    plt.title('Confusion Matrix For Given Prediction')\n",
    "    plt.show()"
   ]
  },
  {
   "cell_type": "code",
   "execution_count": null,
   "metadata": {},
   "outputs": [],
   "source": [
    "## Splitting Data\n",
    "x = data_hotel_bookings_feature.drop(columns = 'adr')\n",
    "y = data_hotel_bookings_feature.adr\n",
    "x_train, x_test, y_train, y_test = train_test_split(x, y, test_size=0.3, train_size=0.7, random_state=0)\n",
    "x_train.shape,x_test.shape"
   ]
  },
  {
   "cell_type": "code",
   "execution_count": null,
   "metadata": {},
   "outputs": [],
   "source": [
    "## Model 1: Naive Bayes (using GNB Technique)\n",
    "# Assumes each parameter (Feature) has an independent capacity of predicting output variable\n",
    "\n",
    "gnb = GaussianNB()\n",
    "gnb_model = gnb.fit(x_train, y_train)\n",
    "gnb_y_pred = gnb_model.predict(x_test)\n",
    "gnb_cm = ConfusionMatrix(gnb)\n",
    "gnb_cm.fit(x_train, y_train)\n",
    "gnb_cm.score(x_test, y_test)"
   ]
  },
  {
   "cell_type": "code",
   "execution_count": null,
   "metadata": {},
   "outputs": [],
   "source": [
    "## Model 2: Random Forest Classifier\n",
    "# Combines output of multiple decision trees to reach a single result\n",
    "rf = RandomForestClassifier()\n",
    "rf_model = rf.fit(x_train, y_train)\n",
    "rf_y_pred = rf_model.predict(x_test)\n",
    "evaluation(y_train, rf_model.predict(x_train))"
   ]
  }
 ],
 "metadata": {
  "kernelspec": {
   "display_name": "Python 3",
   "language": "python",
   "name": "python3"
  },
  "language_info": {
   "codemirror_mode": {
    "name": "ipython",
    "version": 3
   },
   "file_extension": ".py",
   "mimetype": "text/x-python",
   "name": "python",
   "nbconvert_exporter": "python",
   "pygments_lexer": "ipython3",
   "version": "3.11.0"
  },
  "orig_nbformat": 4,
  "vscode": {
   "interpreter": {
    "hash": "c261aea317cc0286b3b3261fbba9abdec21eaa57589985bb7a274bf54d6cc0a7"
   }
  }
 },
 "nbformat": 4,
 "nbformat_minor": 2
}
